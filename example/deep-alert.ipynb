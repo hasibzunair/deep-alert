{
 "cells": [
  {
   "cell_type": "code",
   "execution_count": 33,
   "metadata": {},
   "outputs": [],
   "source": [
    "# import libraries\n",
    "\n",
    "import smtplib\n",
    "from email.mime.multipart import MIMEMultipart\n",
    "from email.mime.text import MIMEText\n",
    "from email.mime.base import MIMEBase\n",
    "from email import encoders\n",
    "\n",
    "import keras\n",
    "from keras.datasets import cifar10\n",
    "from keras.models import Sequential\n",
    "from keras.layers import Dense, Dropout\n",
    "from keras.layers import Activation, Flatten\n",
    "from keras.optimizers import RMSprop\n",
    "from keras.callbacks import ModelCheckpoint\n",
    "import matplotlib.pyplot as plt\n",
    "from keras.layers import Conv2D, MaxPooling2D\n",
    "import os"
   ]
  },
  {
   "cell_type": "code",
   "execution_count": 34,
   "metadata": {},
   "outputs": [],
   "source": [
    "# setup credentials (DUMMY VALUES HERE!!)\n",
    "\n",
    "fromaddr = \"test@gmail.com\"  # your email address\n",
    "password = \"importkeras\" # password\n",
    "toaddr = \"yourname@gmail,com\" # senders email address\n",
    "\n",
    "# init message body\n",
    "\n",
    "msg = MIMEMultipart()\n",
    "msg['From'] = fromaddr\n",
    "msg['To'] = toaddr\n",
    "msg['Subject'] = \"Deep Alert\""
   ]
  },
  {
   "cell_type": "code",
   "execution_count": 39,
   "metadata": {},
   "outputs": [],
   "source": [
    "# model params\n",
    "\n",
    "batch_size = 32\n",
    "num_classes = 10\n",
    "epochs = 20\n",
    "\n",
    "# directory\n",
    "save_dir = os.path.join(os.getcwd(), 'saved_models')\n",
    "model_name = 'keras_cifar.h5'\n",
    "\n",
    "# load the data\n",
    "(x_train, y_train), (x_test, y_test) = cifar10.load_data()\n",
    "\n",
    "# convert to metrics\n",
    "y_train = keras.utils.to_categorical(y_train, num_classes)\n",
    "y_test = keras.utils.to_categorical(y_test, num_classes)\n"
   ]
  },
  {
   "cell_type": "code",
   "execution_count": 36,
   "metadata": {},
   "outputs": [
    {
     "name": "stdout",
     "output_type": "stream",
     "text": [
      "(50000, 32, 32, 3) (50000, 10) (10000, 32, 32, 3) (10000, 10)\n"
     ]
    }
   ],
   "source": [
    "print(x_train.shape, y_train.shape, x_test.shape, y_test.shape)"
   ]
  },
  {
   "cell_type": "code",
   "execution_count": 37,
   "metadata": {},
   "outputs": [
    {
     "name": "stdout",
     "output_type": "stream",
     "text": [
      "_________________________________________________________________\n",
      "Layer (type)                 Output Shape              Param #   \n",
      "=================================================================\n",
      "conv2d_9 (Conv2D)            (None, 32, 32, 32)        896       \n",
      "_________________________________________________________________\n",
      "activation_13 (Activation)   (None, 32, 32, 32)        0         \n",
      "_________________________________________________________________\n",
      "conv2d_10 (Conv2D)           (None, 30, 30, 32)        9248      \n",
      "_________________________________________________________________\n",
      "activation_14 (Activation)   (None, 30, 30, 32)        0         \n",
      "_________________________________________________________________\n",
      "max_pooling2d_5 (MaxPooling2 (None, 15, 15, 32)        0         \n",
      "_________________________________________________________________\n",
      "dropout_7 (Dropout)          (None, 15, 15, 32)        0         \n",
      "_________________________________________________________________\n",
      "conv2d_11 (Conv2D)           (None, 15, 15, 64)        18496     \n",
      "_________________________________________________________________\n",
      "activation_15 (Activation)   (None, 15, 15, 64)        0         \n",
      "_________________________________________________________________\n",
      "conv2d_12 (Conv2D)           (None, 13, 13, 64)        36928     \n",
      "_________________________________________________________________\n",
      "activation_16 (Activation)   (None, 13, 13, 64)        0         \n",
      "_________________________________________________________________\n",
      "max_pooling2d_6 (MaxPooling2 (None, 6, 6, 64)          0         \n",
      "_________________________________________________________________\n",
      "dropout_8 (Dropout)          (None, 6, 6, 64)          0         \n",
      "_________________________________________________________________\n",
      "flatten_3 (Flatten)          (None, 2304)              0         \n",
      "_________________________________________________________________\n",
      "dense_5 (Dense)              (None, 512)               1180160   \n",
      "_________________________________________________________________\n",
      "activation_17 (Activation)   (None, 512)               0         \n",
      "_________________________________________________________________\n",
      "dropout_9 (Dropout)          (None, 512)               0         \n",
      "_________________________________________________________________\n",
      "dense_6 (Dense)              (None, 10)                5130      \n",
      "_________________________________________________________________\n",
      "activation_18 (Activation)   (None, 10)                0         \n",
      "=================================================================\n",
      "Total params: 1,250,858\n",
      "Trainable params: 1,250,858\n",
      "Non-trainable params: 0\n",
      "_________________________________________________________________\n"
     ]
    }
   ],
   "source": [
    "# create the model\n",
    "model = Sequential()\n",
    "model.add(Conv2D(32, (3, 3), padding='same',input_shape=x_train.shape[1:]))\n",
    "model.add(Activation('relu'))\n",
    "model.add(Conv2D(32, (3, 3)))\n",
    "model.add(Activation('relu'))\n",
    "model.add(MaxPooling2D(pool_size=(2, 2)))\n",
    "model.add(Dropout(0.25))\n",
    "\n",
    "model.add(Conv2D(64, (3, 3), padding='same'))\n",
    "model.add(Activation('relu'))\n",
    "model.add(Conv2D(64, (3, 3)))\n",
    "model.add(Activation('relu'))\n",
    "model.add(MaxPooling2D(pool_size=(2, 2)))\n",
    "model.add(Dropout(0.25))\n",
    "\n",
    "model.add(Flatten())\n",
    "model.add(Dense(512))\n",
    "model.add(Activation('relu'))\n",
    "model.add(Dropout(0.5))\n",
    "model.add(Dense(num_classes))\n",
    "model.add(Activation('softmax'))\n",
    "\n",
    "# set optimizer\n",
    "opt = keras.optimizers.rmsprop(lr=0.0001, decay=1e-6)\n",
    "\n",
    "# compile model\n",
    "model.compile(loss='categorical_crossentropy',\n",
    "              optimizer=opt,\n",
    "              metrics=['accuracy'])\n",
    "\n",
    "\n",
    "model.summary()\n"
   ]
  },
  {
   "cell_type": "code",
   "execution_count": 40,
   "metadata": {},
   "outputs": [],
   "source": [
    "# convert and normalize\n",
    "\n",
    "x_train = x_train.astype('float32')\n",
    "x_test = x_test.astype('float32')\n",
    "\n",
    "x_train /= 255\n",
    "x_test /= 255"
   ]
  },
  {
   "cell_type": "code",
   "execution_count": 41,
   "metadata": {},
   "outputs": [
    {
     "name": "stdout",
     "output_type": "stream",
     "text": [
      "Train on 50000 samples, validate on 10000 samples\n",
      "Epoch 1/20\n",
      "50000/50000 [==============================] - 270s 5ms/step - loss: 1.8178 - acc: 0.3320 - val_loss: 1.6072 - val_acc: 0.4344\n",
      "Epoch 2/20\n",
      "50000/50000 [==============================] - 274s 5ms/step - loss: 1.5217 - acc: 0.4509 - val_loss: 1.3516 - val_acc: 0.5165\n",
      "Epoch 3/20\n",
      "50000/50000 [==============================] - 275s 5ms/step - loss: 1.3737 - acc: 0.5064 - val_loss: 1.3645 - val_acc: 0.5271\n",
      "Epoch 4/20\n",
      "50000/50000 [==============================] - 275s 5ms/step - loss: 1.2756 - acc: 0.5460 - val_loss: 1.1805 - val_acc: 0.5861\n",
      "Epoch 5/20\n",
      "50000/50000 [==============================] - 273s 5ms/step - loss: 1.1994 - acc: 0.5763 - val_loss: 1.1319 - val_acc: 0.5992\n",
      "Epoch 6/20\n",
      "50000/50000 [==============================] - 273s 5ms/step - loss: 1.1364 - acc: 0.5993 - val_loss: 1.0455 - val_acc: 0.6360\n",
      "Epoch 7/20\n",
      "50000/50000 [==============================] - 270s 5ms/step - loss: 1.0817 - acc: 0.6166 - val_loss: 0.9981 - val_acc: 0.6483\n",
      "Epoch 8/20\n",
      "50000/50000 [==============================] - 297s 6ms/step - loss: 1.0351 - acc: 0.6377 - val_loss: 0.9519 - val_acc: 0.6681\n",
      "Epoch 9/20\n",
      "50000/50000 [==============================] - 355s 7ms/step - loss: 0.9989 - acc: 0.6496 - val_loss: 0.9382 - val_acc: 0.6711\n",
      "Epoch 10/20\n",
      "50000/50000 [==============================] - 981s 20ms/step - loss: 0.9611 - acc: 0.6634 - val_loss: 0.8830 - val_acc: 0.6981\n",
      "Epoch 11/20\n",
      "50000/50000 [==============================] - 271s 5ms/step - loss: 0.9288 - acc: 0.6737 - val_loss: 0.8635 - val_acc: 0.6948\n",
      "Epoch 12/20\n",
      "50000/50000 [==============================] - 269s 5ms/step - loss: 0.9005 - acc: 0.6857 - val_loss: 0.8563 - val_acc: 0.7001\n",
      "Epoch 13/20\n",
      "50000/50000 [==============================] - 271s 5ms/step - loss: 0.8778 - acc: 0.6943 - val_loss: 0.8396 - val_acc: 0.7047\n",
      "Epoch 14/20\n",
      "50000/50000 [==============================] - 273s 5ms/step - loss: 0.8540 - acc: 0.7018 - val_loss: 0.8382 - val_acc: 0.7084\n",
      "Epoch 15/20\n",
      "50000/50000 [==============================] - 271s 5ms/step - loss: 0.8358 - acc: 0.7104 - val_loss: 0.8177 - val_acc: 0.7191\n",
      "Epoch 16/20\n",
      "50000/50000 [==============================] - 271s 5ms/step - loss: 0.8178 - acc: 0.7157 - val_loss: 0.7820 - val_acc: 0.7270\n",
      "Epoch 17/20\n",
      "50000/50000 [==============================] - 273s 5ms/step - loss: 0.8025 - acc: 0.7217 - val_loss: 0.7811 - val_acc: 0.7316\n",
      "Epoch 18/20\n",
      "50000/50000 [==============================] - 272s 5ms/step - loss: 0.7850 - acc: 0.7265 - val_loss: 0.7549 - val_acc: 0.7369\n",
      "Epoch 19/20\n",
      "50000/50000 [==============================] - 273s 5ms/step - loss: 0.7783 - acc: 0.7303 - val_loss: 0.7543 - val_acc: 0.7391\n",
      "Epoch 20/20\n",
      "50000/50000 [==============================] - 272s 5ms/step - loss: 0.7650 - acc: 0.7369 - val_loss: 0.7622 - val_acc: 0.7413\n"
     ]
    }
   ],
   "source": [
    "history = model.fit(x_train, y_train,\n",
    "                    batch_size=batch_size,\n",
    "                    epochs=epochs,\n",
    "                    verbose=1,\n",
    "                    validation_data=(x_test, y_test))\n"
   ]
  },
  {
   "cell_type": "code",
   "execution_count": 42,
   "metadata": {},
   "outputs": [
    {
     "data": {
      "image/png": "[encoded data removed]",
      "text/plain": [
       "<Figure size 432x288 with 1 Axes>"
      ]
     },
     "metadata": {
      "needs_background": "light"
     },
     "output_type": "display_data"
    }
   ],
   "source": [
    "# summarize history for accuracy\n",
    "\n",
    "plt.plot(history.history['acc'],linewidth=4)\n",
    "plt.plot(history.history['val_acc'],linewidth=4)\n",
    "plt.title('Model Accuracy Graph')\n",
    "plt.ylabel('Accuracy')\n",
    "plt.xlabel('Epochs')\n",
    "plt.grid(True)\n",
    "plt.legend(['train', 'test'], loc='upper left')\n",
    "plt.savefig('accuracy', dpi=300)\n",
    "plt.show()"
   ]
  },
  {
   "cell_type": "code",
   "execution_count": 43,
   "metadata": {},
   "outputs": [
    {
     "data": {
      "image/png": "[encoded data removed]",
      "text/plain": [
       "<Figure size 432x288 with 1 Axes>"
      ]
     },
     "metadata": {
      "needs_background": "light"
     },
     "output_type": "display_data"
    }
   ],
   "source": [
    "# summarize history for loss\n",
    "\n",
    "plt.plot(history.history['loss'],'-g', linewidth=4)\n",
    "plt.plot(history.history['val_loss'],'-m', linewidth=4)\n",
    "plt.title('Model Loss Graph')\n",
    "plt.ylabel('Loss')\n",
    "plt.xlabel('Epochs')\n",
    "plt.grid(True)\n",
    "plt.legend(['train', 'test'], loc='upper left')\n",
    "plt.savefig('loss', dpi=300)\n",
    "plt.show()"
   ]
  },
  {
   "cell_type": "code",
   "execution_count": 45,
   "metadata": {},
   "outputs": [
    {
     "name": "stdout",
     "output_type": "stream",
     "text": [
      "Accuracy: 0.7369\n",
      "Loss: 0.7650491550254822\n",
      "Validation accuracy: 0.7413\n",
      "Validation Loss: 0.7621852181434632\n"
     ]
    }
   ],
   "source": [
    "# get the model values\n",
    "\n",
    "l = history.history['loss'][-1]   # loss\n",
    "a = history.history['acc'][-1]    # acc\n",
    "\n",
    "vl = history.history['val_loss'][-1]  # validation loss\n",
    "va = history.history['val_acc'][-1]   # validation accuracy\n",
    "\n",
    "print(\"Accuracy: \" + str(a))\n",
    "print(\"Loss: \" + str(l))\n",
    "print(\"Validation accuracy: \" + str(va))\n",
    "print(\"Validation Loss: \" + str(vl))"
   ]
  },
  {
   "cell_type": "code",
   "execution_count": 46,
   "metadata": {},
   "outputs": [
    {
     "name": "stdout",
     "output_type": "stream",
     "text": [
      "The mythical model configurations! \n",
      "\n",
      "Acc: 0.736 \n",
      "Loss: 0.765 \n",
      "Val_acc: 0.741 \n",
      "Val_loss: 0.762 \n",
      "\n"
     ]
    }
   ],
   "source": [
    "# this is the message body to be emailed\n",
    "\n",
    "body = \"The mythical model configurations! \\n\\n\" + \"Acc: \" + str(a)[:5] + \" \\n\" + \"Loss: \" + str(l)[:5] + \" \\n\" + \"Val_acc: \" + str(va)[:5] + \" \\n\" + \"Val_loss: \" + str(vl)[:5] + \" \\n\"\n",
    "print(body)"
   ]
  },
  {
   "cell_type": "code",
   "execution_count": 47,
   "metadata": {},
   "outputs": [],
   "source": [
    "# attach message body\n",
    "\n",
    "msg.attach(MIMEText(body, 'plain'))\n",
    "\n",
    "# load the saved graphs\n",
    "\n",
    "filenames = [\"accuracy.png\", \"loss.png\"]\n",
    "\n",
    "# add the images as attachments \n",
    "# convert to base64 string\n",
    "\n",
    "for f in filenames:\n",
    "    attachment = open(f, \"rb\")\n",
    "    part = MIMEBase('application', 'octet-stream')\n",
    "    part.set_payload((attachment).read())\n",
    "    encoders.encode_base64(part)\n",
    "    part.add_header('Content-Disposition', \"attachment; filename= %s\" % f)\n",
    "    msg.attach(part)\n"
   ]
  },
  {
   "cell_type": "code",
   "execution_count": 48,
   "metadata": {},
   "outputs": [
    {
     "name": "stdout",
     "output_type": "stream",
     "text": [
      "Sent!\n"
     ]
    }
   ],
   "source": [
    "# start the server\n",
    "\n",
    "server = smtplib.SMTP('smtp.gmail.com', 587)\n",
    "server.starttls()\n",
    " \n",
    "# login with email and pass\n",
    "\n",
    "server.login(fromaddr, PASSWORD)\n",
    "text = msg.as_string()\n",
    "\n",
    "# send to destionation\n",
    "\n",
    "server.sendmail(fromaddr, toaddr, text)\n",
    "server.quit()\n",
    "print(\"Sent!\")"
   ]
  },
  {
   "cell_type": "code",
   "execution_count": null,
   "metadata": {},
   "outputs": [],
   "source": []
  }
 ],
 "metadata": {
  "kernelspec": {
   "display_name": "Python 3",
   "language": "python",
   "name": "python3"
  },
  "language_info": {
   "codemirror_mode": {
    "name": "ipython",
    "version": 3
   },
   "file_extension": ".py",
   "mimetype": "text/x-python",
   "name": "python",
   "nbconvert_exporter": "python",
   "pygments_lexer": "ipython3",
   "version": "3.6.6"
  }
 },
 "nbformat": 4,
 "nbformat_minor": 2
}
